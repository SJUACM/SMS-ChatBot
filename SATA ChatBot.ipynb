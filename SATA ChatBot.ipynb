{
 "cells": [
  {
   "cell_type": "code",
   "execution_count": 1,
   "metadata": {},
   "outputs": [],
   "source": [
    "# Function to formulate a response based on message input.\n",
    "def getReply(message):\n",
    "    \n",
    "    # Make the message lower case and without spaces on the end for easier handling\n",
    "    message = message.lower().strip()\n",
    "    \n",
    "    # This is the variable where we will store our response\n",
    "    answer = \"\"\n",
    "            \n",
    "        \n",
    "    # is the keyword \"wolfram\" in the message? Ex: \"wolfram integral of x + 1\"\n",
    "    if \"wolfram\" in message:\n",
    "       \n",
    "        message = message.replace('wolfram', '')\n",
    "        \n",
    "        # Instance of wolfram alpha client class\n",
    "        client = wolframalpha.Client(app_id) \n",
    "        \n",
    "        # Stores the response from wolfram alpha\n",
    "        res = client.query(message) \n",
    "        \n",
    "        try:\n",
    "            # Includes only text from the response \n",
    "            answer = next(res.results).text\n",
    "            \n",
    "        except:\n",
    "            answer = 'Sorry, there was an error processing your message. Please try again.'\n",
    "    \n",
    "    \n",
    "    # is the keyword \"wiki\" in the message? Ex: \"wiki LeBron James\"\n",
    "    elif \"wiki\" in message:\n",
    "        \n",
    "        # remove the keyword \"wiki\" from the message\n",
    "        message = message.replace('wiki', '')\n",
    "        \n",
    "        # Get the wikipedia summary for the request\n",
    "        try:\n",
    "            answer = wikipedia.summary(message, sentences=5)\n",
    "            \n",
    "        except:\n",
    "           \n",
    "            # handle errors or non specificity errors \n",
    "            answer = \"Request was not found using wiki. Be more specific?\"\n",
    "\n",
    "\n",
    "    # the message contains no keyword. Display a help prompt to identify possible commands\n",
    "    else:\n",
    "        answer = \"\\n Welcome!\\nThese are the commands you may use: \\nwolfram \\\"wolframalpha request\\\" \\nwiki \\\"wikipedia request\"\"\\n\"\n",
    "    \n",
    "    \n",
    "    # return the formulated answer\n",
    "    return answer"
   ]
  },
  {
   "cell_type": "code",
   "execution_count": null,
   "metadata": {},
   "outputs": [
    {
     "name": "stdout",
     "output_type": "stream",
     "text": [
      " * Serving Flask app \"__main__\" (lazy loading)\n",
      " * Environment: production\n",
      "   WARNING: Do not use the development server in a production environment.\n",
      "   Use a production WSGI server instead.\n",
      " * Debug mode: off\n"
     ]
    },
    {
     "name": "stderr",
     "output_type": "stream",
     "text": [
      " * Running on http://127.0.0.1:5000/ (Press CTRL+C to quit)\n"
     ]
    }
   ],
   "source": [
    "# import all the libraries we will be using\n",
    "from flask import Flask, request\n",
    "import wikipedia\n",
    "import wolframalpha \n",
    "from twilio.twiml.messaging_response import Message, MessagingResponse\n",
    "\n",
    "app_id = 'INSERT_WOLFRAM_APP_ID_HERE' \n",
    "\n",
    "# set up Flask to connect this code to the local host, which will\n",
    "# later be connected to the internet through Ngrok\n",
    "app = Flask(__name__)\n",
    "    \n",
    "# Main method. When a POST request is sent to our local host through Ngrok \n",
    "# (which creates a tunnel to the web), this code will run. The Twilio service # sends the POST request - we will set this up on the Twilio website. So when # a message is sent over SMS to our Twilio number, this code will run\n",
    "@app.route('/', methods=['POST'])\n",
    "def sms():\n",
    "    \n",
    "    # Get the text in the message sent\n",
    "    message_body = request.form['Body']\n",
    "    \n",
    "    # Create a Twilio response object to be able to send a reply back (as per # Twilio docs)\n",
    "    resp = MessagingResponse()\n",
    "    \n",
    "    # Send the message body to the getReply message, where \n",
    "    # we will query the String and formulate a response\n",
    "    replyText = getReply(message_body)\n",
    "\n",
    "    # Text back our response!\n",
    "    resp.message(replyText)\n",
    "    return str(resp)\n",
    "\n",
    "# when you run the code through terminal, this will allow Flask to work\n",
    "if __name__ == '__main__':\n",
    "    app.run()"
   ]
  }
 ],
 "metadata": {
  "kernelspec": {
   "display_name": "Python 3",
   "language": "python",
   "name": "python3"
  },
  "language_info": {
   "codemirror_mode": {
    "name": "ipython",
    "version": 3
   },
   "file_extension": ".py",
   "mimetype": "text/x-python",
   "name": "python",
   "nbconvert_exporter": "python",
   "pygments_lexer": "ipython3",
   "version": "3.6.7"
  }
 },
 "nbformat": 4,
 "nbformat_minor": 4
}
